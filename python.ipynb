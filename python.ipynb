{
 "cells": [
  {
   "cell_type": "code",
   "execution_count": 1,
   "metadata": {},
   "outputs": [],
   "source": [
    "from IPython.display import clear_output\n",
    "def display_board(board):\n",
    "    clear_output()   #clear_ouput() Avoid The Repetition Of BOARD  \n",
    "    print('     |   |')\n",
    "    print('   '  + board[7]+ ' | '+ board[8]+ ' | '+ board[9])\n",
    "    print('     |   |')\n",
    "    print('-----------------')\n",
    "    print('     |   |')\n",
    "    print('   '  + board[4]+ ' | '+ board[5]+ ' | '+ board[6])\n",
    "    print('     |   |')\n",
    "    print('-----------------')\n",
    "    print('     |   |')\n",
    "    print('   '  + board[1]+ ' | '+ board[2]+ ' | '+ board[3])\n",
    "    print('     |   |')"
   ]
  },
  {
   "cell_type": "code",
   "execution_count": 2,
   "metadata": {},
   "outputs": [
    {
     "name": "stdout",
     "output_type": "stream",
     "text": [
      "     |   |\n",
      "   X | O | X\n",
      "     |   |\n",
      "-----------------\n",
      "     |   |\n",
      "   O | X | O\n",
      "     |   |\n",
      "-----------------\n",
      "     |   |\n",
      "   X | O | X\n",
      "     |   |\n"
     ]
    }
   ],
   "source": [
    "test_board=['#','X','O','X','O','X','O','X','O','X']*10\n",
    "display_board(test_board)"
   ]
  },
  {
   "cell_type": "code",
   "execution_count": 3,
   "metadata": {},
   "outputs": [],
   "source": [
    "def player_input():\n",
    "    '''\n",
    "    OUTPUT=(Player 1 marker,Player 2 marker)\n",
    "\n",
    "    '''\n",
    "    marker=''\n",
    "\n",
    "\n",
    "    while marker !='X' and marker !='O':\n",
    "        marker=input('Player1: Choose X or O:').upper()\n",
    "\n",
    "    if marker == 'X':\n",
    "\n",
    "        return('X','O')\n",
    "    else:\n",
    "        return('O','X')    \n",
    "\n"
   ]
  },
  {
   "cell_type": "code",
   "execution_count": 4,
   "metadata": {},
   "outputs": [],
   "source": [
    "player1_marker , player2_marker = player_input()\n"
   ]
  },
  {
   "cell_type": "code",
   "execution_count": 5,
   "metadata": {},
   "outputs": [
    {
     "data": {
      "text/plain": [
       "'X'"
      ]
     },
     "execution_count": 5,
     "metadata": {},
     "output_type": "execute_result"
    }
   ],
   "source": [
    "player1_marker "
   ]
  },
  {
   "cell_type": "code",
   "execution_count": 6,
   "metadata": {},
   "outputs": [],
   "source": [
    "def place_marker(board, marker, position):\n",
    "    board[position]=marker "
   ]
  },
  {
   "cell_type": "code",
   "execution_count": 7,
   "metadata": {},
   "outputs": [
    {
     "name": "stdout",
     "output_type": "stream",
     "text": [
      "     |   |\n",
      "   X | $ | X\n",
      "     |   |\n",
      "-----------------\n",
      "     |   |\n",
      "   O | X | O\n",
      "     |   |\n",
      "-----------------\n",
      "     |   |\n",
      "   X | O | X\n",
      "     |   |\n"
     ]
    }
   ],
   "source": [
    "place_marker(test_board,'$',8)\n",
    "display_board(test_board)             "
   ]
  },
  {
   "cell_type": "code",
   "execution_count": 8,
   "metadata": {},
   "outputs": [],
   "source": [
    "def win_check(board, mark):\n",
    "    return((board[7]==mark and board[8]==mark and board[9]==mark )or  #across the top\n",
    "           (board[4]==mark and board[5]==mark and board[6]==mark )or  #across the middle\n",
    "           (board[1]==mark and board[2]==mark and board[3]==mark )or  #across the bottom\n",
    "           (board[7]==mark and board[4]==mark and board[1]==mark )or  #down the left side \n",
    "           (board[8]==mark and board[5]==mark and board[2]==mark )or  #down the middle\n",
    "           (board[9]==mark and board[6]==mark and board[3]==mark )or  #down the right side \n",
    "           (board[7]==mark and board[5]==mark and board[3]==mark )or  #across the diagonal\n",
    "           (board[9]==mark and board[5]==mark and board[1]==mark ))   #across the diagonal"
   ]
  },
  {
   "cell_type": "code",
   "execution_count": 9,
   "metadata": {},
   "outputs": [
    {
     "name": "stdout",
     "output_type": "stream",
     "text": [
      "     |   |\n",
      "   X | $ | X\n",
      "     |   |\n",
      "-----------------\n",
      "     |   |\n",
      "   O | X | O\n",
      "     |   |\n",
      "-----------------\n",
      "     |   |\n",
      "   X | O | X\n",
      "     |   |\n"
     ]
    },
    {
     "data": {
      "text/plain": [
       "True"
      ]
     },
     "execution_count": 9,
     "metadata": {},
     "output_type": "execute_result"
    }
   ],
   "source": [
    "display_board(test_board)\n",
    "win_check(test_board,'X')"
   ]
  },
  {
   "cell_type": "code",
   "execution_count": 10,
   "metadata": {},
   "outputs": [],
   "source": [
    "import random\n",
    "def choose_first():\n",
    "    flip= random.randint(0,1)\n",
    "\n",
    "    if flip == 0 :\n",
    "        return 'Player 1'\n",
    "    \n",
    "    else:\n",
    "        return 'Player 2'"
   ]
  },
  {
   "cell_type": "code",
   "execution_count": 11,
   "metadata": {},
   "outputs": [],
   "source": [
    "def space_check(board,position):\n",
    "    return board[position]==' '"
   ]
  },
  {
   "cell_type": "code",
   "execution_count": 12,
   "metadata": {},
   "outputs": [],
   "source": [
    "def full_board_check(board):\n",
    "\n",
    "    for i in range (1,10):\n",
    "        if space_check(board,i):\n",
    "            return False\n",
    "        \n",
    "        \n",
    "#Board is full if we return True \n",
    "\n",
    "    return True     "
   ]
  },
  {
   "cell_type": "code",
   "execution_count": 13,
   "metadata": {},
   "outputs": [],
   "source": [
    "def player_choice(board):\n",
    "\n",
    "    position = 0\n",
    "\n",
    "    while position not in [1,2,3,4,5,6,7,8,9] or not space_check(board, position ):\n",
    "        position = int(float(input('Choose a Position: (1-9)')))\n",
    "\n",
    "    return position     "
   ]
  },
  {
   "cell_type": "code",
   "execution_count": 14,
   "metadata": {},
   "outputs": [],
   "source": [
    "def replay ():\n",
    "    choice = input(\"Play again??? Enter Yes or NO\")\n",
    "\n",
    "    return choice == 'YES'"
   ]
  },
  {
   "cell_type": "code",
   "execution_count": null,
   "metadata": {},
   "outputs": [
    {
     "name": "stdout",
     "output_type": "stream",
     "text": [
      "     |   |\n",
      "     | X | X\n",
      "     |   |\n",
      "-----------------\n",
      "     |   |\n",
      "   O | O | O\n",
      "     |   |\n",
      "-----------------\n",
      "     |   |\n",
      "   X | O |  \n",
      "     |   |\n",
      "Congratulations....\n",
      "                      player 2 Has Won\n"
     ]
    }
   ],
   "source": [
    "#while loop to keep running the game \n",
    "\n",
    "print(\"Welcome to TIC TAC TOE... \")\n",
    "\n",
    "\n",
    "while True:\n",
    "    \n",
    "\n",
    "    #Play The Game...\n",
    "\n",
    "    ## Set Everything UP (BOARD, WHOS FIRST, CHOOSE MARKERS X,O)\n",
    "\n",
    "    the_board = [' ']*10\n",
    "    player1_marker, player2_marker = player_input()\n",
    "\n",
    "    turn = choose_first()\n",
    "    print(turn + 'will go first')\n",
    "\n",
    "    play_game = input('Ready to play??? YES OR NO ')\n",
    "\n",
    "    if play_game == 'YES' :\n",
    "        game_on = True \n",
    "\n",
    "    else:\n",
    "        game_on = False    \n",
    "\n",
    "\n",
    "\n",
    "\n",
    "    # GAME PLAY\n",
    "\n",
    "    while game_on:\n",
    "        if turn == 'Player 1' :\n",
    "\n",
    "            # Show Board \n",
    "            display_board(the_board)\n",
    "\n",
    "            # Choose a Position \n",
    "            position = player_choice(the_board)\n",
    "\n",
    "            # Place the marker on the position \n",
    "            place_marker(the_board, player1_marker, position)\n",
    "\n",
    "            # Check if they won :\n",
    "            if win_check(the_board, player1_marker):\n",
    "                display_board(the_board)\n",
    "                print('''Congratulations....\n",
    "                      player 1 Has Won''')\n",
    "                      \n",
    "                game_on = False\n",
    "\n",
    "            else:\n",
    "                if full_board_check(the_board):\n",
    "                    display_board(the_board)\n",
    "                    print(''' OOPssss \n",
    "                          it's a TIE GAME!!!''')\n",
    "                    game_on = False\n",
    "\n",
    "                else:\n",
    "                    turn = 'Player 2'\n",
    "\n",
    "        \n",
    "\n",
    "\n",
    "        else:\n",
    "\n",
    "            # Show the BOARD \n",
    "            display_board(the_board)\n",
    "\n",
    "            # Choose a Position \n",
    "            position = player_choice(the_board)\n",
    "\n",
    "            # Place the marker on the position \n",
    "            place_marker(the_board, player2_marker, position)\n",
    "\n",
    "            # Check if they won :\n",
    "            if win_check(the_board, player2_marker):\n",
    "                display_board(the_board)\n",
    "                print('''Congratulations....\n",
    "                      player 2 Has Won''')\n",
    "                      \n",
    "                game_on = False\n",
    "\n",
    "            else:\n",
    "                if full_board_check(the_board):\n",
    "                    display_board(the_board)\n",
    "                    print(''' OOPssss \n",
    "                          it's a TIE GAME!!!''')\n",
    "                    break\n",
    "\n",
    "                else:\n",
    "                    turn = 'Player 1'\n",
    "            \n",
    "\n",
    "\n",
    "\n",
    "\n",
    "\n",
    "   \n",
    "\n",
    "\n",
    "#Break Out of the While Loop ON Replay()\n",
    "\n",
    "\n",
    "\n",
    "\n",
    "\n",
    "\n"
   ]
  }
 ],
 "metadata": {
  "kernelspec": {
   "display_name": "Python 3",
   "language": "python",
   "name": "python3"
  },
  "language_info": {
   "codemirror_mode": {
    "name": "ipython",
    "version": 3
   },
   "file_extension": ".py",
   "mimetype": "text/x-python",
   "name": "python",
   "nbconvert_exporter": "python",
   "pygments_lexer": "ipython3",
   "version": "3.12.2"
  }
 },
 "nbformat": 4,
 "nbformat_minor": 2
}
